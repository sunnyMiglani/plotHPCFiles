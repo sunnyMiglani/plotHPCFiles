{
 "cells": [
  {
   "cell_type": "markdown",
   "metadata": {},
   "source": [
    "# Plot BlueCrystal OutFiles\n",
    "\n",
    "## This program requires this json format:\n",
    "\n",
    "> (Number of Threads)\t(Size) (Runtime) `\n",
    "\n",
    "``` \n",
    "[{\"Number of Threads\":1,\"Size\":1,\"Runtime\":0.54},\n",
    "{\"Number of Threads\":1,\"Size\":2,\"Runtime\":3.86}]\n",
    "```\n",
    "\n",
    "### I recommend [Mr Data Converter](https://shancarter.github.io/mr-data-converter/) to convert your data into Json.\n",
    "\n",
    "## How to extract from .out files:\n",
    "\n",
    "The best way to extract from the out files is using grep.\n",
    "While this is insanely hacky, it saves you loads of time.\n",
    "\n",
    "My .out file had the output of *many* runs of the program, (just do ./jacobi .. multiple times)\n",
    "\n",
    "To extract these timings I did them using grep like so:\n",
    "\n",
    "`grep -i \"matrix size\" <fileNameHere>`\n",
    "\n",
    "This extracts the entire file's matrix sizes, which in my case was loads of 1000x1000, 2000x2000, and 4000x4000.\n",
    "\n",
    "it does it top down, so the format is always constant.\n",
    "\n",
    "Then use this :\n",
    "\n",
    "`grep -i \"solver runtime\" <fileNameHere>`\n",
    "\n",
    "This extracts the runetime in the same order as the matrix sizes above.\n",
    "\n",
    "Using similar greps you could potentially take out other data from your files if needed.\n",
    "\n",
    "I copied the data from those into an Excel sheet, and copied that into the Mr Data Converter link above, to put them in a json format.\n",
    "\n",
    "The rest of this code should be some indication on how to plot the data.\n",
    "\n",
    "#### If you've never used numpy plot before, this might not make a lot of sense "
   ]
  },
  {
   "cell_type": "code",
   "execution_count": 1,
   "metadata": {
    "collapsed": true
   },
   "outputs": [],
   "source": [
    "import json\n",
    "import numpy as np\n",
    "import matplotlib.pyplot as plt\n",
    "from pprint import pprint\n",
    "\n",
    "class JacobiData:\n",
    "    def __init__(self,feature):\n",
    "        self.one = 0\n",
    "        self.two = 0\n",
    "        self.four = 0\n",
    "        self.numberOfThreads = feature\n",
    "    def __repr__(self):\n",
    "        return \"One : {0}, Two : {1}, four : {2}, Number Of Threads : {3}\".format(self.one,self.two,self.four,self.numberOfThreads)\n",
    "    def __str__(self):\n",
    "        return \"One : {0}, Two : {1}, four : {2}, Number Of Threads : {3}\".format(self.one,self.two,self.four,self.numberOfThreads)"
   ]
  },
  {
   "cell_type": "code",
   "execution_count": 3,
   "metadata": {
    "collapsed": true
   },
   "outputs": [],
   "source": [
    "def plot_data(dictData):\n",
    "    OneKTimes = []\n",
    "    TwoKTimes = []\n",
    "    FourKTimes = []\n",
    "    unsorted = list(dictData.keys())\n",
    "    print(unsorted)\n",
    "    for ind in reversed(range(0,len(unsorted))):\n",
    "        val = dictData[unsorted[ind]]\n",
    "        OneKTimes.append(val.one)\n",
    "        TwoKTimes.append(val.two)\n",
    "        FourKTimes.append(val.four)\n",
    "    \n",
    "    unsorted = np.flip(unsorted,axis = 0)\n",
    "    \n",
    "    plt.figure(1)\n",
    "    plt.plot(unsorted,FourKTimes, label = '4000x4000', color = 'red')\n",
    "    plt.xlabel('Number of Threads used')\n",
    "    plt.ylabel('Time taken by the program in seconds')\n",
    "    plt.xticks(unsorted,unsorted)\n",
    "    plt.legend()\n",
    "    \n",
    "#     plt.figure(2)\n",
    "#     plt.plot(unsorted,TwoKTimes, label = '2000x2000', color = 'green')\n",
    "#     plt.xticks(unsorted,unsorted)\n",
    "#     plt.xlabel('Number of Threads used')\n",
    "#     plt.ylabel('Time taken by the program in seconds')\n",
    "#     plt.legend()\n",
    "    \n",
    "    "
   ]
  },
  {
   "cell_type": "code",
   "execution_count": 6,
   "metadata": {},
   "outputs": [],
   "source": [
    "data = json.load(open('dataJson.json')) # This is the file name\n",
    "\n",
    "dictOfFeature = {} # dictionary \n",
    "\n",
    "\n",
    "for vals in data:\n",
    "    numOfThreads = vals['Number of Threads']\n",
    "    if(numOfThreads not in dictOfFeature.keys()):\n",
    "        if(numOfThreads==None): continue\n",
    "        dictOfFeature[numOfThreads] = JacobiData(numOfThreads)\n",
    "    size = vals['Size']\n",
    "    runtime = vals['Runtime'] # referencing the json file\n",
    "    if(size==1): (dictOfFeature[numOfThreads]).one = runtime\n",
    "    if(size== 2): (dictOfFeature[numOfThreads]).two = runtime\n",
    "    if(size== 4): (dictOfFeature[numOfThreads]).four = runtime\n",
    "\n",
    "        \n",
    "plot_data(dictOfFeature)"
   ]
  },
  {
   "cell_type": "code",
   "execution_count": null,
   "metadata": {
    "collapsed": true
   },
   "outputs": [],
   "source": []
  }
 ],
 "metadata": {
  "kernelspec": {
   "display_name": "Python 3",
   "language": "python",
   "name": "python3"
  },
  "language_info": {
   "codemirror_mode": {
    "name": "ipython",
    "version": 3
   },
   "file_extension": ".py",
   "mimetype": "text/x-python",
   "name": "python",
   "nbconvert_exporter": "python",
   "pygments_lexer": "ipython3",
   "version": "3.5.2"
  }
 },
 "nbformat": 4,
 "nbformat_minor": 2
}
